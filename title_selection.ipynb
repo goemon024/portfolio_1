{
 "cells": [
  {
   "cell_type": "code",
   "execution_count": 7,
   "metadata": {},
   "outputs": [],
   "source": [
    "import gensim\n",
    "import MeCab\n",
    "import sys\n",
    "import numpy as np\n",
    "import pandas as pd\n",
    "import codecs\n",
    "import math\n",
    "from sklearn.svm import SVC"
   ]
  },
  {
   "cell_type": "code",
   "execution_count": 8,
   "metadata": {},
   "outputs": [],
   "source": [
    "def pre_process(train_file):\n",
    "    with codecs.open(train_file, \"r\", \"UTF-8\", \"ignore\") as file:  #\"Shift-JIS\"\n",
    "        df = pd.read_table(file, delimiter=\",\")\n",
    "    \n",
    "    df=df.dropna()\n",
    "    train_data = df.loc[:,\"title\"].values\n",
    "    target_data = df.loc[:,\"target\"].values\n",
    "    return train_data, target_data"
   ]
  },
  {
   "cell_type": "code",
   "execution_count": 9,
   "metadata": {},
   "outputs": [],
   "source": [
    "def vectorize_data(input_data):\n",
    "    model_gensim = gensim.models.KeyedVectors.load(\"models/w2v_model.bin\")\n",
    "    vect_data = []\n",
    "    m = MeCab.Tagger(\"-Owakati\")\n",
    "    for sentense in input_data:\n",
    "        temp = m.parse(sentense)\n",
    "        temp_list = temp.split()\n",
    "        sum = 0\n",
    "        for word in temp_list:\n",
    "            try: \n",
    "                sum = sum + model_gensim[word]\n",
    "            except:\n",
    "                # print(word)\n",
    "                pass\n",
    "        sum = sum/len(temp_list)\n",
    "        vect_data.append(sum)\n",
    "\n",
    "    vect_data = np.array(vect_data)\n",
    "    return vect_data"
   ]
  },
  {
   "cell_type": "code",
   "execution_count": 10,
   "metadata": {},
   "outputs": [],
   "source": [
    "def build_model(vector_data300,target_data):\n",
    "    clf = SVC(gamma='auto',probability=True,random_state=43)\n",
    "    model = clf.fit(vector_data300, target_data)\n",
    "    return model"
   ]
  },
  {
   "cell_type": "code",
   "execution_count": 17,
   "metadata": {},
   "outputs": [],
   "source": [
    "def predict(test_file,svc1):\n",
    "    df_test = pd.read_csv(test_file)\n",
    "    test_data = df_test.loc[:,\"title\"].values\n",
    "\n",
    "    vect_test_data = vectorize_data(test_data)    \n",
    "    pred = svc1.predict_proba(vect_test_data)\n",
    "\n",
    "    pred_pd =  pd.Series(pred[0:len(pred),1])\n",
    "    test_pd = pd.Series(test_data)\n",
    "    test_pred = pd.concat([test_pd, pred_pd] ,axis=1)\n",
    "    test_pred.columns = [\"title\",\"score\"]\n",
    "\n",
    "    test_pred = test_pred.sort_values(\"score\",ascending=False)\n",
    "    result = test_pred[test_pred[\"score\"] >0.6]\n",
    "    #　結果の記録\n",
    "    test_pred.to_csv(\"data/result_0427.csv\",mode=\"w\",encoding=\"utf_8_sig\")\n",
    "    \n",
    "    return result"
   ]
  },
  {
   "cell_type": "code",
   "execution_count": 18,
   "metadata": {},
   "outputs": [
    {
     "name": "stdout",
     "output_type": "stream",
     "text": [
      "0.8611 アメリカ太平洋空軍初のF-35A部隊、アラスカに誕生…第354戦闘航空団！\n",
      "0.8039 日銀が追加金融緩和 上限なく国債購入 政府の経済対策に連動\n",
      "0.7688 【新型コロナ】インターハイ史上初の中止\n",
      "0.7629 イエメン停戦を1カ月延長、サウジアラビア主導のアラブ連合軍…新型コロナ確認後も衝突続く！\n",
      "0.7472 【速報】中国で甲殻類に感染する謎のウイルス蔓延開始ｗｗｗｗ\n",
      "0.7427 強襲揚陸艦「アメリカ」の飛行甲板では海兵隊員らがゴルフ練習で休息！\n",
      "0.7203 氷河期世代とかいう日本の闇ｗｗｗ\n",
      "0.7112 米ボーイング社、ブラジルの航空機大手エンブラエルとの事業統合を中止！\n",
      "0.7015 【新型コロナ】緊急事態宣言　政府内「来月6日全面解除は困難」\n",
      "0.6852 地球を侵略しにきた宇宙人←こいつら\n"
     ]
    }
   ],
   "source": [
    "train_file = \"data/train_target_data03010426.csv\"\n",
    "test_file = \"data/matome_rss_20200427.csv\"\n",
    "    \n",
    "def main():\n",
    "\n",
    "    train_data,target_data = pre_process(train_file)\n",
    "    vect_train_data = vectorize_data(train_data)\n",
    "    \n",
    "    svc1 = build_model(vect_train_data, target_data)\n",
    "    result = predict(test_file, svc1)\n",
    "    \n",
    "    count =0 \n",
    "    for i in result.index:\n",
    "        print(result.loc[i,\"score\"].round(4),result.title[i])\n",
    "        count += 1\n",
    "        if count >=10 :\n",
    "            break\n",
    "\n",
    "main()"
   ]
  },
  {
   "cell_type": "markdown",
   "metadata": {},
   "source": [
    "### model_gensimについて"
   ]
  },
  {
   "cell_type": "code",
   "execution_count": 17,
   "metadata": {},
   "outputs": [],
   "source": [
    "# model_gensim = gensim.models.KeyedVectors.load_word2vec_format(\"cc.ja.300.vec.gz\",binary=False)\n",
    "# model_gensim.save(\"models/w2v_model.bin\")\n",
    "### model_gensim をmodelsフォルダにsave後、loadして使用。\n",
    "# model_gensim = gensim.models.KeyedVectors.load(\"models/w2v_model.bin\")\n"
   ]
  }
 ],
 "metadata": {
  "kernelspec": {
   "display_name": "Python 3",
   "language": "python",
   "name": "python3"
  },
  "language_info": {
   "codemirror_mode": {
    "name": "ipython",
    "version": 3
   },
   "file_extension": ".py",
   "mimetype": "text/x-python",
   "name": "python",
   "nbconvert_exporter": "python",
   "pygments_lexer": "ipython3",
   "version": "3.7.4"
  }
 },
 "nbformat": 4,
 "nbformat_minor": 2
}
